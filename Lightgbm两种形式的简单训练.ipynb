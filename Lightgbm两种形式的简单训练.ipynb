{
 "cells": [
  {
   "cell_type": "markdown",
   "metadata": {},
   "source": [
    "# Lightgbm两种形式的简单训练"
   ]
  },
  {
   "cell_type": "markdown",
   "metadata": {},
   "source": [
    "### 原生形式使用lighgbm(import lightgbm as lgb)"
   ]
  },
  {
   "cell_type": "code",
   "execution_count": 3,
   "metadata": {},
   "outputs": [
    {
     "name": "stdout",
     "output_type": "stream",
     "text": [
      "     0    1    2    3\n",
      "0  5.1  3.5  1.4  0.2\n",
      "1  4.9  3.0  1.4  0.2\n",
      "2  4.7  3.2  1.3  0.2\n",
      "3  4.6  3.1  1.5  0.2\n",
      "4  5.0  3.6  1.4  0.2\n",
      "   0\n",
      "0  0\n",
      "1  0\n",
      "2  0\n",
      "3  0\n",
      "4  0\n",
      "   sepal_l  sepal_w  petal_l  petal_w\n",
      "0      5.1      3.5      1.4      0.2\n",
      "1      4.9      3.0      1.4      0.2\n",
      "2      4.7      3.2      1.3      0.2\n",
      "3      4.6      3.1      1.5      0.2\n",
      "4      5.0      3.6      1.4      0.2\n",
      "   label\n",
      "0      0\n",
      "1      0\n",
      "2      0\n",
      "3      0\n",
      "4      0\n"
     ]
    }
   ],
   "source": [
    "# 从sklearn调入所需要的包\n",
    "from sklearn import datasets\n",
    "from sklearn.model_selection import train_test_split# 数据分割出训练集与验证集\n",
    "import lightgbm as lgb\n",
    "import numpy as np\n",
    "import pandas as pd\n",
    "#导入精度和召回\n",
    "from sklearn.metrics import precision_score,recall_score\n",
    "#导入鸢尾花数据\n",
    "iris=datasets.load_iris()\n",
    "data=iris.data\n",
    "label=iris.target\n",
    "print(pd.DataFrame(data).head())\n",
    "print(pd.DataFrame(label).head())\n",
    "data1=pd.DataFrame(data)\n",
    "data1.columns=['sepal_l','sepal_w','petal_l','petal_w']\n",
    "print(data1.head())\n",
    "label1=pd.DataFrame(label)\n",
    "label1.columns=['label']\n",
    "print(label1.head())\n"
   ]
  },
  {
   "cell_type": "code",
   "execution_count": 2,
   "metadata": {},
   "outputs": [
    {
     "name": "stdout",
     "output_type": "stream",
     "text": [
      "Collecting lightgbm\n",
      "  Downloading https://files.pythonhosted.org/packages/c7/0b/a183c06e7778893b2f12bb3e2cdab57f142b4e49cd25cc643047f714e74c/lightgbm-2.3.0-py2.py3-none-win_amd64.whl (543kB)\n",
      "Requirement already satisfied: scikit-learn in g:\\program files (x86)\\microsoft visual studio\\shared\\anaconda3_64\\lib\\site-packages (from lightgbm) (0.19.1)\n",
      "Requirement already satisfied: scipy in g:\\program files (x86)\\microsoft visual studio\\shared\\anaconda3_64\\lib\\site-packages (from lightgbm) (1.1.0)\n",
      "Requirement already satisfied: numpy in g:\\program files (x86)\\microsoft visual studio\\shared\\anaconda3_64\\lib\\site-packages (from lightgbm) (1.14.3)\n",
      "Installing collected packages: lightgbm\n",
      "Successfully installed lightgbm-2.3.0\n"
     ]
    },
    {
     "name": "stderr",
     "output_type": "stream",
     "text": [
      "WARNING: You are using pip version 19.2.1, however version 19.3.1 is available.\n",
      "You should consider upgrading via the 'python -m pip install --upgrade pip' command.\n"
     ]
    }
   ],
   "source": [
    "!pip install lightgbm "
   ]
  },
  {
   "cell_type": "code",
   "execution_count": 5,
   "metadata": {},
   "outputs": [
    {
     "name": "stdout",
     "output_type": "stream",
     "text": [
      "训练集长度： 105\n",
      "测试集长度: 45\n"
     ]
    }
   ],
   "source": [
    "# 划分训练集与测试集\n",
    "train_x,test_x,train_y,test_y=train_test_split(data1,label1,test_size=0.3,random_state=42)\n",
    "print('训练集长度：',len(train_x))\n",
    "print('测试集长度:',len(test_x))"
   ]
  },
  {
   "cell_type": "code",
   "execution_count": 8,
   "metadata": {},
   "outputs": [
    {
     "name": "stdout",
     "output_type": "stream",
     "text": [
      "[1]\ttraining's multi_error: 0.133333\tvalid_1's multi_error: 0.155556\n",
      "[2]\ttraining's multi_error: 0.0571429\tvalid_1's multi_error: 0.0444444\n",
      "[3]\ttraining's multi_error: 0.0666667\tvalid_1's multi_error: 0\n",
      "[4]\ttraining's multi_error: 0.0666667\tvalid_1's multi_error: 0\n",
      "[5]\ttraining's multi_error: 0.0666667\tvalid_1's multi_error: 0\n",
      "[6]\ttraining's multi_error: 0.0666667\tvalid_1's multi_error: 0\n",
      "[7]\ttraining's multi_error: 0.0761905\tvalid_1's multi_error: 0\n",
      "[8]\ttraining's multi_error: 0.0761905\tvalid_1's multi_error: 0\n",
      "[9]\ttraining's multi_error: 0.0761905\tvalid_1's multi_error: 0\n",
      "[10]\ttraining's multi_error: 0.0666667\tvalid_1's multi_error: 0\n",
      "test的预测结果: [1 0 2 1 1 0 1 2 1 1 2 0 0 0 0 1 2 1 1 2 0 2 0 2 2 2 2 2 0 0 0 0 1 0 0 2 1\n",
      " 0 0 0 2 1 1 0 0]\n"
     ]
    }
   ],
   "source": [
    "# 装换为DMatrix的数据格式\n",
    "train_data=lgb.Dataset(train_x,train_y)\n",
    "test_data=lgb.Dataset(test_x,test_y)\n",
    "#设置参数\n",
    "lgb_params={\n",
    "    'boosting_type':'gbdt',\n",
    "    'objective':'multiclass',\n",
    "    'metric':'multi_error',\n",
    "    'verboss':1,#<0显示致命的，=0 显示错误，>0显示信息\n",
    "    'num_class':3 # lightgbm.basicLightGBMError:b\"Number of classes should be specified and greater than 1 for multclass training\"\n",
    "}\n",
    "# 模型训练\n",
    "clf=lgb.train(lgb_params,train_data,num_boost_round=10,valid_sets=[train_data,test_data],verbose_eval=1)\n",
    "#模型预测\n",
    "test_pre=clf.predict(test_x,num_iteration=clf.best_iteration)\n",
    "# 选择表示最高概率的列\n",
    "test_pre_1=np.asarray([np.argmax(row) for row in test_pre])\n",
    "print('test的预测结果:',test_pre_1)"
   ]
  },
  {
   "cell_type": "markdown",
   "metadata": {},
   "source": [
    "### sklearn 接口形式使用lightgbm"
   ]
  },
  {
   "cell_type": "code",
   "execution_count": 12,
   "metadata": {},
   "outputs": [
    {
     "name": "stdout",
     "output_type": "stream",
     "text": [
      "[1 0 2 1 1 0 1 2 1 1 2 0 0 0 0 1 2 1 1 2 0 2 0 2 2 2 2 2 0 0 0 0 1 0 0 2 1\n",
      " 0 0 0 2 1 1 0 0]\n",
      "验证集精准率： 1.0\n",
      "验证集召回率： 1.0\n"
     ]
    },
    {
     "name": "stderr",
     "output_type": "stream",
     "text": [
      "G:\\Program Files (x86)\\Microsoft Visual Studio\\Shared\\Anaconda3_64\\lib\\site-packages\\sklearn\\preprocessing\\label.py:95: DataConversionWarning: A column-vector y was passed when a 1d array was expected. Please change the shape of y to (n_samples, ), for example using ravel().\n",
      "  y = column_or_1d(y, warn=True)\n",
      "G:\\Program Files (x86)\\Microsoft Visual Studio\\Shared\\Anaconda3_64\\lib\\site-packages\\sklearn\\preprocessing\\label.py:128: DataConversionWarning: A column-vector y was passed when a 1d array was expected. Please change the shape of y to (n_samples, ), for example using ravel().\n",
      "  y = column_or_1d(y, warn=True)\n",
      "G:\\Program Files (x86)\\Microsoft Visual Studio\\Shared\\Anaconda3_64\\lib\\site-packages\\sklearn\\preprocessing\\label.py:151: DeprecationWarning: The truth value of an empty array is ambiguous. Returning False, but in future this will result in an error. Use `array.size > 0` to check that an array is not empty.\n",
      "  if diff:\n"
     ]
    }
   ],
   "source": [
    "import lightgbm as lgb\n",
    "lgb_params={\n",
    "    'learing_rate':0.1,\n",
    "    'max_bin':150,\n",
    "    'num_leaves':32,\n",
    "    'max_depth':11,\n",
    "    'objective':'multiclass',\n",
    "    'n_estimators':300    \n",
    "}\n",
    "model=lgb.LGBMClassifier(**lgb_params)\n",
    "model.fit(train_x,train_y)\n",
    "# 预测\n",
    "# 输出预测值\n",
    "test_pre2=model.predict(test_x)\n",
    "print(test_pre2)\n",
    "print('验证集精准率：',precision_score(test_y,test_pre2,average='macro'))\n",
    "print('验证集召回率：',recall_score(test_y,test_pre2,average='macro'))"
   ]
  },
  {
   "cell_type": "code",
   "execution_count": null,
   "metadata": {},
   "outputs": [],
   "source": []
  }
 ],
 "metadata": {
  "kernelspec": {
   "display_name": "Python 3",
   "language": "python",
   "name": "python3"
  },
  "language_info": {
   "codemirror_mode": {
    "name": "ipython",
    "version": 3
   },
   "file_extension": ".py",
   "mimetype": "text/x-python",
   "name": "python",
   "nbconvert_exporter": "python",
   "pygments_lexer": "ipython3",
   "version": "3.6.5"
  }
 },
 "nbformat": 4,
 "nbformat_minor": 2
}
