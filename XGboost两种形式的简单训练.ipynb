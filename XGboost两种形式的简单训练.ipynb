{
 "cells": [
  {
   "cell_type": "markdown",
   "metadata": {},
   "source": [
    "# 原生态的XGBoost的使用形式"
   ]
  },
  {
   "cell_type": "code",
   "execution_count": 9,
   "metadata": {},
   "outputs": [
    {
     "name": "stdout",
     "output_type": "stream",
     "text": [
      "     0    1    2    3\n",
      "0  5.1  3.5  1.4  0.2\n",
      "1  4.9  3.0  1.4  0.2\n",
      "2  4.7  3.2  1.3  0.2\n",
      "3  4.6  3.1  1.5  0.2\n",
      "4  5.0  3.6  1.4  0.2\n",
      "   0\n",
      "0  0\n",
      "1  0\n",
      "2  0\n",
      "3  0\n",
      "4  0\n",
      "   sepal_l  sepal_w  petal_l  petal_w\n",
      "0      5.1      3.5      1.4      0.2\n",
      "1      4.9      3.0      1.4      0.2\n",
      "2      4.7      3.2      1.3      0.2\n",
      "3      4.6      3.1      1.5      0.2\n",
      "4      5.0      3.6      1.4      0.2\n",
      "   label\n",
      "0      0\n",
      "1      0\n",
      "2      0\n",
      "3      0\n",
      "4      0\n"
     ]
    }
   ],
   "source": [
    "# 从sklearn 调入所需要的包\n",
    "from sklearn import datasets\n",
    "from sklearn.model_selection import train_test_split #数据分割出训练集和验证集\n",
    "import xgboost as xgb\n",
    "import numpy as np\n",
    "import pandas as pd\n",
    "#导入精度和召回\n",
    "from sklearn.metrics import precision_score,recall_score\n",
    "#导入鸢尾花数据\n",
    "iris=datasets.load_iris()\n",
    "data=iris.data\n",
    "label=iris.target\n",
    "print(pd.DataFrame(data).head())\n",
    "print(pd.DataFrame(label).head())\n",
    "data1=pd.DataFrame(data)\n",
    "##花蕊长宽 花瓣长宽\n",
    "data1.columns=['sepal_l','sepal_w','petal_l','petal_w']\n",
    "print(data1.head())\n",
    "label1=pd.DataFrame(label)\n",
    "label1.columns=['label']\n",
    "print(label1.head())\n",
    "#注意哦 这里data 和label顺序是一致的千万别打乱"
   ]
  },
  {
   "cell_type": "code",
   "execution_count": 3,
   "metadata": {},
   "outputs": [
    {
     "name": "stdout",
     "output_type": "stream",
     "text": [
      "Collecting xgboost\n",
      "  Downloading https://files.pythonhosted.org/packages/5e/49/b95c037b717b4ceadc76b6e164603471225c27052d1611d5a2e832757945/xgboost-0.90-py2.py3-none-win_amd64.whl (18.3MB)\n",
      "Requirement already satisfied: numpy in g:\\program files (x86)\\microsoft visual studio\\shared\\anaconda3_64\\lib\\site-packages (from xgboost) (1.14.3)\n",
      "Requirement already satisfied: scipy in g:\\program files (x86)\\microsoft visual studio\\shared\\anaconda3_64\\lib\\site-packages (from xgboost) (1.1.0)\n",
      "Installing collected packages: xgboost\n",
      "Successfully installed xgboost-0.90\n"
     ]
    },
    {
     "name": "stderr",
     "output_type": "stream",
     "text": [
      "WARNING: You are using pip version 19.2.1, however version 19.3.1 is available.\n",
      "You should consider upgrading via the 'python -m pip install --upgrade pip' command.\n"
     ]
    }
   ],
   "source": [
    "!pip install xgboost"
   ]
  },
  {
   "cell_type": "code",
   "execution_count": 11,
   "metadata": {},
   "outputs": [
    {
     "name": "stdout",
     "output_type": "stream",
     "text": [
      "训练集长度： 105\n",
      "测试集长度： 45\n"
     ]
    }
   ],
   "source": [
    "# 划分训练集和测试环集\n",
    "train_x,test_x,train_y,test_y=train_test_split(data1.values,label1.values,test_size=0.3,random_state=42)\n",
    "print(\"训练集长度：\",len(train_x))\n",
    "print(\"测试集长度：\",len(test_x))"
   ]
  },
  {
   "cell_type": "code",
   "execution_count": 17,
   "metadata": {},
   "outputs": [
    {
     "name": "stdout",
     "output_type": "stream",
     "text": [
      "[[0.00650662 0.96226966 0.03122366]\n",
      " [0.9706414  0.02533223 0.00402638]\n",
      " [0.0033913  0.0069211  0.9896876 ]\n",
      " [0.00654367 0.967749   0.02570731]\n",
      " [0.00615655 0.91049767 0.08334578]]\n",
      "test的预测结果： [1 0 2 1 1 0 1 2 1 1 2 0 0 0 0 1 2 1 1 2 0 2 0 2 2 2 2 2 0 0 0 0 1 0 0 2 1\n",
      " 0 0 0 2 1 1 0 0]\n",
      "验证集精准率： 1.0\n",
      "验证集召回率： 1.0\n"
     ]
    }
   ],
   "source": [
    "## 转换为DMatrix数据格式\n",
    "# dtrain=xgb.DMatrix(train_x,label=train_y)\n",
    "test_data=xgb.DMatrix(test_x,label=test_y)\n",
    "#设置参数\n",
    "### multi softmax是使用softmax 产生的分类结果，而multi ：softprob 是输出概率矩阵\n",
    "xgb_params={\n",
    "    'eta':0.3,#学习率\n",
    "    'silent':True,# 输出运行讯息\n",
    "    'objective':'multi:softprob',#使用多分类生成概率矩阵格式‘multi：softmax’‘multi：softprob’\n",
    "    'num_class':3,#共有多少类别\n",
    "    'max_depth':3,# 深度\n",
    "}\n",
    "num_round=20 # 跑的步数\n",
    "# 模型训练\n",
    "model =xgb.train(xgb_params,xgb.DMatrix(train_x,label=train_y),num_round)\n",
    "#模型预测\n",
    "test_pre=model.predict(test_data)\n",
    "print(test_pre[:5])\n",
    "#选择出概率最高的列\n",
    "test_pre_1=np.asarray([np.argmax(row) for row in test_pre])\n",
    "print('test的预测结果：',test_pre_1)\n",
    "#模型评估\n",
    "print('验证集精准率：',precision_score(test_y,test_pre_1,average='macro'))\n",
    "print('验证集召回率：',recall_score(test_y,test_pre_1,average='macro'))"
   ]
  },
  {
   "cell_type": "markdown",
   "metadata": {},
   "source": [
    "# Sklearn接口形式使用XgBoost"
   ]
  },
  {
   "cell_type": "code",
   "execution_count": 18,
   "metadata": {},
   "outputs": [],
   "source": [
    "from xgboost import XGBClassifier"
   ]
  },
  {
   "cell_type": "code",
   "execution_count": 21,
   "metadata": {},
   "outputs": [
    {
     "name": "stderr",
     "output_type": "stream",
     "text": [
      "G:\\Program Files (x86)\\Microsoft Visual Studio\\Shared\\Anaconda3_64\\lib\\site-packages\\sklearn\\preprocessing\\label.py:95: DataConversionWarning: A column-vector y was passed when a 1d array was expected. Please change the shape of y to (n_samples, ), for example using ravel().\n",
      "  y = column_or_1d(y, warn=True)\n",
      "G:\\Program Files (x86)\\Microsoft Visual Studio\\Shared\\Anaconda3_64\\lib\\site-packages\\sklearn\\preprocessing\\label.py:128: DataConversionWarning: A column-vector y was passed when a 1d array was expected. Please change the shape of y to (n_samples, ), for example using ravel().\n",
      "  y = column_or_1d(y, warn=True)\n"
     ]
    },
    {
     "name": "stdout",
     "output_type": "stream",
     "text": [
      "[1 0 2 1 1 0 1 2 1 1 2 0 0 0 0 1 2 1 1 2 0 2 0 2 2 2 2 2 0 0 0 0 1 0 0 2 1\n",
      " 0 0 0 2 1 1 0 0]\n",
      "验证集精准率： 1.0\n",
      "验证集召回率 1.0\n"
     ]
    },
    {
     "name": "stderr",
     "output_type": "stream",
     "text": [
      "G:\\Program Files (x86)\\Microsoft Visual Studio\\Shared\\Anaconda3_64\\lib\\site-packages\\sklearn\\preprocessing\\label.py:151: DeprecationWarning: The truth value of an empty array is ambiguous. Returning False, but in future this will result in an error. Use `array.size > 0` to check that an array is not empty.\n",
      "  if diff:\n"
     ]
    }
   ],
   "source": [
    "model=XGBClassifier(\n",
    "     learning_rate=0.01,# 学习lv\n",
    "    n_estimators=3000,# 步长\n",
    "    max_depth=4,#深度\n",
    "    objective='binary:logistic',\n",
    "    seed=27\n",
    ")\n",
    "model.fit(train_x,train_y)\n",
    "#预测\n",
    "#输出预测结果\n",
    "test_pre2=model.predict(test_x)\n",
    "print(test_pre2)\n",
    "#模型评估\n",
    "print('验证集精准率：',precision_score(test_y,test_pre2,average='macro'))\n",
    "print('验证集召回率',recall_score(test_y,test_pre2,average='macro'))"
   ]
  },
  {
   "cell_type": "code",
   "execution_count": null,
   "metadata": {},
   "outputs": [],
   "source": []
  }
 ],
 "metadata": {
  "kernelspec": {
   "display_name": "Python 3",
   "language": "python",
   "name": "python3"
  },
  "language_info": {
   "codemirror_mode": {
    "name": "ipython",
    "version": 3
   },
   "file_extension": ".py",
   "mimetype": "text/x-python",
   "name": "python",
   "nbconvert_exporter": "python",
   "pygments_lexer": "ipython3",
   "version": "3.6.5"
  }
 },
 "nbformat": 4,
 "nbformat_minor": 2
}
